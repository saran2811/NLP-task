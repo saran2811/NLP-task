{
  "nbformat": 4,
  "nbformat_minor": 0,
  "metadata": {
    "colab": {
      "provenance": [],
      "authorship_tag": "ABX9TyNib/xYnkx4z0MUHscbCRcY",
      "include_colab_link": true
    },
    "kernelspec": {
      "name": "python3",
      "display_name": "Python 3"
    },
    "language_info": {
      "name": "python"
    }
  },
  "cells": [
    {
      "cell_type": "markdown",
      "metadata": {
        "id": "view-in-github",
        "colab_type": "text"
      },
      "source": [
        "<a href=\"https://colab.research.google.com/github/saran2811/NLP-task/blob/main/Resume_filtering.ipynb\" target=\"_parent\"><img src=\"https://colab.research.google.com/assets/colab-badge.svg\" alt=\"Open In Colab\"/></a>"
      ]
    },
    {
      "cell_type": "code",
      "source": [
        "pip install python-docx"
      ],
      "metadata": {
        "colab": {
          "base_uri": "https://localhost:8080/"
        },
        "id": "1oLTdWP4Ylhg",
        "outputId": "7e95a2a5-2c7e-453a-ad5c-099a30a8a52e"
      },
      "execution_count": null,
      "outputs": [
        {
          "output_type": "stream",
          "name": "stdout",
          "text": [
            "Looking in indexes: https://pypi.org/simple, https://us-python.pkg.dev/colab-wheels/public/simple/\n",
            "Collecting python-docx\n",
            "  Downloading python-docx-0.8.11.tar.gz (5.6 MB)\n",
            "\u001b[2K     \u001b[90m━━━━━━━━━━━━━━━━━━━━━━━━━━━━━━━━━━━━━━━━\u001b[0m \u001b[32m5.6/5.6 MB\u001b[0m \u001b[31m54.9 MB/s\u001b[0m eta \u001b[36m0:00:00\u001b[0m\n",
            "\u001b[?25h  Preparing metadata (setup.py) ... \u001b[?25l\u001b[?25hdone\n",
            "Requirement already satisfied: lxml>=2.3.2 in /usr/local/lib/python3.8/dist-packages (from python-docx) (4.9.2)\n",
            "Building wheels for collected packages: python-docx\n",
            "  Building wheel for python-docx (setup.py) ... \u001b[?25l\u001b[?25hdone\n",
            "  Created wheel for python-docx: filename=python_docx-0.8.11-py3-none-any.whl size=184505 sha256=c669889878784493f1abcb515e57573e285104d141e9dab471264ea0a005de19\n",
            "  Stored in directory: /root/.cache/pip/wheels/32/b8/b2/c4c2b95765e615fe139b0b17b5ea7c0e1b6519b0a9ec8fb34d\n",
            "Successfully built python-docx\n",
            "Installing collected packages: python-docx\n",
            "Successfully installed python-docx-0.8.11\n"
          ]
        }
      ]
    },
    {
      "cell_type": "code",
      "source": [
        "pip install pypdf2"
      ],
      "metadata": {
        "colab": {
          "base_uri": "https://localhost:8080/"
        },
        "id": "LDDy5_BnfYf0",
        "outputId": "9dc2ad75-2502-4487-8cfe-df151b2feb51"
      },
      "execution_count": null,
      "outputs": [
        {
          "output_type": "stream",
          "name": "stdout",
          "text": [
            "Looking in indexes: https://pypi.org/simple, https://us-python.pkg.dev/colab-wheels/public/simple/\n",
            "Collecting pypdf2\n",
            "  Downloading pypdf2-3.0.1-py3-none-any.whl (232 kB)\n",
            "\u001b[2K     \u001b[90m━━━━━━━━━━━━━━━━━━━━━━━━━━━━━━━━━━━━━━━\u001b[0m \u001b[32m232.6/232.6 KB\u001b[0m \u001b[31m9.1 MB/s\u001b[0m eta \u001b[36m0:00:00\u001b[0m\n",
            "\u001b[?25hRequirement already satisfied: typing_extensions>=3.10.0.0 in /usr/local/lib/python3.8/dist-packages (from pypdf2) (4.4.0)\n",
            "Installing collected packages: pypdf2\n",
            "Successfully installed pypdf2-3.0.1\n"
          ]
        }
      ]
    },
    {
      "cell_type": "code",
      "source": [
        "nltk.download('punkt')"
      ],
      "metadata": {
        "colab": {
          "base_uri": "https://localhost:8080/"
        },
        "id": "_nxnleBClcEf",
        "outputId": "1354ea44-3917-4c17-cc74-6a13bdd49edc"
      },
      "execution_count": null,
      "outputs": [
        {
          "output_type": "stream",
          "name": "stderr",
          "text": [
            "[nltk_data] Downloading package punkt to /root/nltk_data...\n",
            "[nltk_data]   Unzipping tokenizers/punkt.zip.\n"
          ]
        },
        {
          "output_type": "execute_result",
          "data": {
            "text/plain": [
              "True"
            ]
          },
          "metadata": {},
          "execution_count": 21
        }
      ]
    },
    {
      "cell_type": "code",
      "execution_count": null,
      "metadata": {
        "id": "s1K4T9NyTJXX"
      },
      "outputs": [],
      "source": [
        "import os\n",
        "from docx import Document\n",
        "import re\n",
        "import PyPDF2\n",
        "import nltk\n",
        "from nltk.tokenize import word_tokenize\n",
        "from google.colab import files"
      ]
    },
    {
      "cell_type": "code",
      "source": [
        "#defining class for extraction of data content from the input file\n",
        "class Extract:\n",
        "   def __init__(self,file):\n",
        "     self.file=file\n",
        "   def check_Extension(self):\n",
        "     file=self.file\n",
        "     print(file)\n",
        "     filename,file_extension=os.path.splitext(file)\n",
        "    \n",
        "     #to extract content from word resume file\n",
        "    \n",
        "     if file_extension=='.docx':\n",
        "       doc=Document(file)\n",
        "       txt=' '\n",
        "       for line in doc.paragraphs:\n",
        "          txt+=line.text\n",
        "       txt=word_tokenize(txt)\n",
        "       txt=[re.sub(r'\\W','',x) for x in txt]\n",
        "       txt=' '.join(txt)\n",
        "       txt=txt.strip()\n",
        "       txt=txt.lower()\n",
        "       return txt,self.file\n",
        "     # To extract content fron the pdf resume file\n",
        "     if file_extension=='.pdf':\n",
        "       pdfFileObj = open(file,'rb')\n",
        "       pdfReader = PyPDF2.PdfReader(pdfFileObj,strict=False)\n",
        "       num_pages = len(pdfReader.pages)\n",
        "       count = 0\n",
        "       txt=' '\n",
        "       while count < num_pages:\n",
        "          pageObj = pdfReader.pages[count]\n",
        "          count +=1\n",
        "          txt += pageObj.extract_text()\n",
        "       txt=word_tokenize(txt)\n",
        "       txt=[re.sub(r'\\W','',x) for x in txt]\n",
        "       txt=' '.join(txt)\n",
        "       txt=txt.strip()\n",
        "       txt=txt.lower()\n",
        "       return txt,self.file\n",
        "# Defining the class for seperating skill from resumes and filterinf resumes accoring to the requirement\n",
        "class skill_seperation:\n",
        "     def __init__(self,content,file,data) :\n",
        "        self.content=content\n",
        "        self.file=file\n",
        "        self.data=data\n",
        "\n",
        "     def skill(self):\n",
        "        # Creating Dictionary with respective skill fields for filtering Resumes\n",
        "        terms={'Project management':['project management','strategic planning','team leadership','customer service','feasibility analysis',\n",
        "                              'negotiation','leadership','business strategy','continuous improvement',\n",
        "                              'pmi','pmp','scrum','stakeholders'],'Data Science':['big data','clustering','data science','deep learning','hadoop',\n",
        "                          'hypothesis test','machine learning','data analysis','modeling','nosql','nlp',\n",
        "                          'predictive','sql','mondodb','data mining','htcondor.','tableau','text mining',\n",
        "                          'visualuzation'],'Network Administration':['cloud infrastructure','agile methodology','solution design','network migrations','cisco','ccna','ccnp','comptia network+'],\n",
        "               'Full Stack':['javascript','html','css','net','reactjs','angularjs','nodejs','rest apis','spring','c','soap']}\n",
        "        #Searching for skill according to respective areas for filtering\n",
        "        for area in terms.keys():\n",
        "          if area=='Project management':\n",
        "             flag=0\n",
        "             for skill in terms[area]:\n",
        "               if re.search(skill,self.content):\n",
        "                  flag+=1\n",
        "               \n",
        "             if flag>3:\n",
        "                self.data[area].append(self.file)\n",
        "          if area=='Data Science':\n",
        "             flag=0\n",
        "             for skill in terms[area]:\n",
        "               if re.search(skill,self.content):\n",
        "                  flag+=1\n",
        "            \n",
        "             if flag>3:\n",
        "                self.data[area].append(self.file)\n",
        "          if area=='Network Administration':\n",
        "             flag=0\n",
        "             for skill in terms[area]:\n",
        "               if re.search(skill,self.content):\n",
        "                  flag=1\n",
        "                  break\n",
        "             if flag==1:\n",
        "                self.data[area].append(self.file)\n",
        "          if area=='Full Stack':\n",
        "             flag=0\n",
        "             for skill in terms[area]:\n",
        "               if re.search(skill,self.content):\n",
        "                  flag=1\n",
        "               else:\n",
        "                  flag=0\n",
        "                  break\n",
        "             if flag==1:\n",
        "                self.data[area].append(self.file)\n",
        "      \n",
        "data={'Project management':[],'Data Science':[],'Network Administration':[],'Full Stack':[]}\n",
        "uploaded = files.upload()\n",
        "for File in uploaded:\n",
        "  txt=Extract(File) \n",
        "  content=txt.check_Extension()\n",
        "  skill_resume=skill_seperation(content[0],content[1],data)\n",
        "  skill_resume.skill()\n",
        "\n"
      ],
      "metadata": {
        "colab": {
          "base_uri": "https://localhost:8080/",
          "height": 486
        },
        "id": "hv8mXHxTJ5KY",
        "outputId": "1b80c662-03c2-4868-8cf8-18140e552f82"
      },
      "execution_count": null,
      "outputs": [
        {
          "output_type": "display_data",
          "data": {
            "text/plain": [
              "<IPython.core.display.HTML object>"
            ],
            "text/html": [
              "\n",
              "     <input type=\"file\" id=\"files-46af0d9e-9028-4260-b289-23f3e3f667eb\" name=\"files[]\" multiple disabled\n",
              "        style=\"border:none\" />\n",
              "     <output id=\"result-46af0d9e-9028-4260-b289-23f3e3f667eb\">\n",
              "      Upload widget is only available when the cell has been executed in the\n",
              "      current browser session. Please rerun this cell to enable.\n",
              "      </output>\n",
              "      <script>// Copyright 2017 Google LLC\n",
              "//\n",
              "// Licensed under the Apache License, Version 2.0 (the \"License\");\n",
              "// you may not use this file except in compliance with the License.\n",
              "// You may obtain a copy of the License at\n",
              "//\n",
              "//      http://www.apache.org/licenses/LICENSE-2.0\n",
              "//\n",
              "// Unless required by applicable law or agreed to in writing, software\n",
              "// distributed under the License is distributed on an \"AS IS\" BASIS,\n",
              "// WITHOUT WARRANTIES OR CONDITIONS OF ANY KIND, either express or implied.\n",
              "// See the License for the specific language governing permissions and\n",
              "// limitations under the License.\n",
              "\n",
              "/**\n",
              " * @fileoverview Helpers for google.colab Python module.\n",
              " */\n",
              "(function(scope) {\n",
              "function span(text, styleAttributes = {}) {\n",
              "  const element = document.createElement('span');\n",
              "  element.textContent = text;\n",
              "  for (const key of Object.keys(styleAttributes)) {\n",
              "    element.style[key] = styleAttributes[key];\n",
              "  }\n",
              "  return element;\n",
              "}\n",
              "\n",
              "// Max number of bytes which will be uploaded at a time.\n",
              "const MAX_PAYLOAD_SIZE = 100 * 1024;\n",
              "\n",
              "function _uploadFiles(inputId, outputId) {\n",
              "  const steps = uploadFilesStep(inputId, outputId);\n",
              "  const outputElement = document.getElementById(outputId);\n",
              "  // Cache steps on the outputElement to make it available for the next call\n",
              "  // to uploadFilesContinue from Python.\n",
              "  outputElement.steps = steps;\n",
              "\n",
              "  return _uploadFilesContinue(outputId);\n",
              "}\n",
              "\n",
              "// This is roughly an async generator (not supported in the browser yet),\n",
              "// where there are multiple asynchronous steps and the Python side is going\n",
              "// to poll for completion of each step.\n",
              "// This uses a Promise to block the python side on completion of each step,\n",
              "// then passes the result of the previous step as the input to the next step.\n",
              "function _uploadFilesContinue(outputId) {\n",
              "  const outputElement = document.getElementById(outputId);\n",
              "  const steps = outputElement.steps;\n",
              "\n",
              "  const next = steps.next(outputElement.lastPromiseValue);\n",
              "  return Promise.resolve(next.value.promise).then((value) => {\n",
              "    // Cache the last promise value to make it available to the next\n",
              "    // step of the generator.\n",
              "    outputElement.lastPromiseValue = value;\n",
              "    return next.value.response;\n",
              "  });\n",
              "}\n",
              "\n",
              "/**\n",
              " * Generator function which is called between each async step of the upload\n",
              " * process.\n",
              " * @param {string} inputId Element ID of the input file picker element.\n",
              " * @param {string} outputId Element ID of the output display.\n",
              " * @return {!Iterable<!Object>} Iterable of next steps.\n",
              " */\n",
              "function* uploadFilesStep(inputId, outputId) {\n",
              "  const inputElement = document.getElementById(inputId);\n",
              "  inputElement.disabled = false;\n",
              "\n",
              "  const outputElement = document.getElementById(outputId);\n",
              "  outputElement.innerHTML = '';\n",
              "\n",
              "  const pickedPromise = new Promise((resolve) => {\n",
              "    inputElement.addEventListener('change', (e) => {\n",
              "      resolve(e.target.files);\n",
              "    });\n",
              "  });\n",
              "\n",
              "  const cancel = document.createElement('button');\n",
              "  inputElement.parentElement.appendChild(cancel);\n",
              "  cancel.textContent = 'Cancel upload';\n",
              "  const cancelPromise = new Promise((resolve) => {\n",
              "    cancel.onclick = () => {\n",
              "      resolve(null);\n",
              "    };\n",
              "  });\n",
              "\n",
              "  // Wait for the user to pick the files.\n",
              "  const files = yield {\n",
              "    promise: Promise.race([pickedPromise, cancelPromise]),\n",
              "    response: {\n",
              "      action: 'starting',\n",
              "    }\n",
              "  };\n",
              "\n",
              "  cancel.remove();\n",
              "\n",
              "  // Disable the input element since further picks are not allowed.\n",
              "  inputElement.disabled = true;\n",
              "\n",
              "  if (!files) {\n",
              "    return {\n",
              "      response: {\n",
              "        action: 'complete',\n",
              "      }\n",
              "    };\n",
              "  }\n",
              "\n",
              "  for (const file of files) {\n",
              "    const li = document.createElement('li');\n",
              "    li.append(span(file.name, {fontWeight: 'bold'}));\n",
              "    li.append(span(\n",
              "        `(${file.type || 'n/a'}) - ${file.size} bytes, ` +\n",
              "        `last modified: ${\n",
              "            file.lastModifiedDate ? file.lastModifiedDate.toLocaleDateString() :\n",
              "                                    'n/a'} - `));\n",
              "    const percent = span('0% done');\n",
              "    li.appendChild(percent);\n",
              "\n",
              "    outputElement.appendChild(li);\n",
              "\n",
              "    const fileDataPromise = new Promise((resolve) => {\n",
              "      const reader = new FileReader();\n",
              "      reader.onload = (e) => {\n",
              "        resolve(e.target.result);\n",
              "      };\n",
              "      reader.readAsArrayBuffer(file);\n",
              "    });\n",
              "    // Wait for the data to be ready.\n",
              "    let fileData = yield {\n",
              "      promise: fileDataPromise,\n",
              "      response: {\n",
              "        action: 'continue',\n",
              "      }\n",
              "    };\n",
              "\n",
              "    // Use a chunked sending to avoid message size limits. See b/62115660.\n",
              "    let position = 0;\n",
              "    do {\n",
              "      const length = Math.min(fileData.byteLength - position, MAX_PAYLOAD_SIZE);\n",
              "      const chunk = new Uint8Array(fileData, position, length);\n",
              "      position += length;\n",
              "\n",
              "      const base64 = btoa(String.fromCharCode.apply(null, chunk));\n",
              "      yield {\n",
              "        response: {\n",
              "          action: 'append',\n",
              "          file: file.name,\n",
              "          data: base64,\n",
              "        },\n",
              "      };\n",
              "\n",
              "      let percentDone = fileData.byteLength === 0 ?\n",
              "          100 :\n",
              "          Math.round((position / fileData.byteLength) * 100);\n",
              "      percent.textContent = `${percentDone}% done`;\n",
              "\n",
              "    } while (position < fileData.byteLength);\n",
              "  }\n",
              "\n",
              "  // All done.\n",
              "  yield {\n",
              "    response: {\n",
              "      action: 'complete',\n",
              "    }\n",
              "  };\n",
              "}\n",
              "\n",
              "scope.google = scope.google || {};\n",
              "scope.google.colab = scope.google.colab || {};\n",
              "scope.google.colab._files = {\n",
              "  _uploadFiles,\n",
              "  _uploadFilesContinue,\n",
              "};\n",
              "})(self);\n",
              "</script> "
            ]
          },
          "metadata": {}
        },
        {
          "output_type": "stream",
          "name": "stdout",
          "text": [
            "Saving res 1.pdf to res 1 (20).pdf\n",
            "Saving res 2.pdf to res 2 (23).pdf\n",
            "Saving res 3.pdf to res 3 (20).pdf\n",
            "Saving res 4.pdf to res 4 (19).pdf\n",
            "Saving res 5.docx to res 5 (18).docx\n",
            "Saving res 6.pdf to res 6 (18).pdf\n",
            "Saving res 7.pdf to res 7 (18).pdf\n",
            "Saving res 8.pdf to res 8 (19).pdf\n",
            "res 1.pdf\n",
            "res 2.pdf\n",
            "res 3.pdf\n",
            "res 4.pdf\n",
            "res 5.docx\n",
            "res 6.pdf\n",
            "res 7.pdf\n",
            "res 8.pdf\n"
          ]
        }
      ]
    },
    {
      "cell_type": "markdown",
      "source": [
        "# Filtered resumes According to the feilds"
      ],
      "metadata": {
        "id": "dOK9b2hPLMLz"
      }
    },
    {
      "cell_type": "code",
      "source": [
        "data"
      ],
      "metadata": {
        "colab": {
          "base_uri": "https://localhost:8080/"
        },
        "id": "qzCNsbSVBc-L",
        "outputId": "15ad4e77-a375-4a69-d028-5d801f9791c5"
      },
      "execution_count": null,
      "outputs": [
        {
          "output_type": "execute_result",
          "data": {
            "text/plain": [
              "{'Project management': ['res 1.pdf'],\n",
              " 'Data Science': ['res 2.pdf', 'res 8.pdf'],\n",
              " 'Network Administration': ['res 1.pdf', 'res 5.docx'],\n",
              " 'Full Stack': ['res 3.pdf', 'res 4.pdf']}"
            ]
          },
          "metadata": {},
          "execution_count": 131
        }
      ]
    }
  ]
}
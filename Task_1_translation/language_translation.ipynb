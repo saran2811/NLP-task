{
  "nbformat": 4,
  "nbformat_minor": 0,
  "metadata": {
    "colab": {
      "provenance": []
    },
    "kernelspec": {
      "name": "python3",
      "display_name": "Python 3"
    },
    "language_info": {
      "name": "python"
    },
    "accelerator": "GPU",
    "gpuClass": "standard"
  },
  "cells": [
    {
      "cell_type": "markdown",
      "source": [
        "# **Installing and Importing necessary files**"
      ],
      "metadata": {
        "id": "N4KjRL-tFe3Z"
      }
    },
    {
      "cell_type": "code",
      "execution_count": null,
      "metadata": {
        "colab": {
          "base_uri": "https://localhost:8080/"
        },
        "id": "_iM5IMIO17Mt",
        "outputId": "b16f46b6-85ac-46ab-d7d5-fe4920316c6e"
      },
      "outputs": [
        {
          "output_type": "stream",
          "name": "stdout",
          "text": [
            "Looking in indexes: https://pypi.org/simple, https://us-python.pkg.dev/colab-wheels/public/simple/\n",
            "Requirement already satisfied: textblob in /usr/local/lib/python3.8/dist-packages (0.15.3)\n",
            "Requirement already satisfied: nltk>=3.1 in /usr/local/lib/python3.8/dist-packages (from textblob) (3.7)\n",
            "Requirement already satisfied: regex>=2021.8.3 in /usr/local/lib/python3.8/dist-packages (from nltk>=3.1->textblob) (2022.6.2)\n",
            "Requirement already satisfied: click in /usr/local/lib/python3.8/dist-packages (from nltk>=3.1->textblob) (7.1.2)\n",
            "Requirement already satisfied: joblib in /usr/local/lib/python3.8/dist-packages (from nltk>=3.1->textblob) (1.2.0)\n",
            "Requirement already satisfied: tqdm in /usr/local/lib/python3.8/dist-packages (from nltk>=3.1->textblob) (4.64.1)\n"
          ]
        }
      ],
      "source": [
        "pip install textblob\n"
      ]
    },
    {
      "cell_type": "code",
      "source": [
        "from textblob import TextBlob\n",
        "import pandas as pd"
      ],
      "metadata": {
        "id": "YC7CUfWZ-yZP"
      },
      "execution_count": null,
      "outputs": []
    },
    {
      "cell_type": "markdown",
      "source": [
        "# **Importing the dataset for translation**"
      ],
      "metadata": {
        "id": "r2idF0aB_fDr"
      }
    },
    {
      "cell_type": "code",
      "source": [
        "df=pd.read_csv(\"/content/English.csv\")\n",
        "len(df)"
      ],
      "metadata": {
        "colab": {
          "base_uri": "https://localhost:8080/"
        },
        "id": "a1W9qCqyOh3d",
        "outputId": "43f42809-9cca-4a27-c1cc-7bbfdaa2ea79"
      },
      "execution_count": null,
      "outputs": [
        {
          "output_type": "execute_result",
          "data": {
            "text/plain": [
              "175621"
            ]
          },
          "metadata": {},
          "execution_count": 82
        }
      ]
    },
    {
      "cell_type": "code",
      "source": [
        "df.drop_duplicates(inplace=True)"
      ],
      "metadata": {
        "id": "m8SaTI_COvvd"
      },
      "execution_count": null,
      "outputs": []
    },
    {
      "cell_type": "markdown",
      "source": [
        "**Taking Sample from dataset for translation**"
      ],
      "metadata": {
        "id": "D8cIYniNFw6u"
      }
    },
    {
      "cell_type": "code",
      "source": [
        "df=df.sample(n=200)"
      ],
      "metadata": {
        "id": "27f3i-HTLVDy"
      },
      "execution_count": null,
      "outputs": []
    },
    {
      "cell_type": "code",
      "source": [
        "df.reset_index(drop=True,inplace=True)"
      ],
      "metadata": {
        "id": "B2OOjDBwPZvg"
      },
      "execution_count": null,
      "outputs": []
    },
    {
      "cell_type": "code",
      "source": [
        "df"
      ],
      "metadata": {
        "colab": {
          "base_uri": "https://localhost:8080/",
          "height": 423
        },
        "id": "FU2nSNszBwfS",
        "outputId": "84e3b106-99f2-4ab2-84de-c1b9f5206120"
      },
      "execution_count": null,
      "outputs": [
        {
          "output_type": "execute_result",
          "data": {
            "text/plain": [
              "                               English words/sentences\n",
              "0    High fructose corn syrup is found in about eve...\n",
              "1            Surprisingly, he swims even on cold days.\n",
              "2                         What if Tom doesn't like me?\n",
              "3                 He doesn't have a job. He's retired.\n",
              "4                           This is impossible for me.\n",
              "..                                                 ...\n",
              "195               I need thread to sew on this button.\n",
              "196                He set fire to the school building.\n",
              "197               Tom may never be able to walk again.\n",
              "198                             I'm reading this book.\n",
              "199  The Tigers lost the game, which was a surprise...\n",
              "\n",
              "[200 rows x 1 columns]"
            ],
            "text/html": [
              "\n",
              "  <div id=\"df-e7bcf8d0-1ddf-460f-a89c-e43066c6afaf\">\n",
              "    <div class=\"colab-df-container\">\n",
              "      <div>\n",
              "<style scoped>\n",
              "    .dataframe tbody tr th:only-of-type {\n",
              "        vertical-align: middle;\n",
              "    }\n",
              "\n",
              "    .dataframe tbody tr th {\n",
              "        vertical-align: top;\n",
              "    }\n",
              "\n",
              "    .dataframe thead th {\n",
              "        text-align: right;\n",
              "    }\n",
              "</style>\n",
              "<table border=\"1\" class=\"dataframe\">\n",
              "  <thead>\n",
              "    <tr style=\"text-align: right;\">\n",
              "      <th></th>\n",
              "      <th>English words/sentences</th>\n",
              "    </tr>\n",
              "  </thead>\n",
              "  <tbody>\n",
              "    <tr>\n",
              "      <th>0</th>\n",
              "      <td>High fructose corn syrup is found in about eve...</td>\n",
              "    </tr>\n",
              "    <tr>\n",
              "      <th>1</th>\n",
              "      <td>Surprisingly, he swims even on cold days.</td>\n",
              "    </tr>\n",
              "    <tr>\n",
              "      <th>2</th>\n",
              "      <td>What if Tom doesn't like me?</td>\n",
              "    </tr>\n",
              "    <tr>\n",
              "      <th>3</th>\n",
              "      <td>He doesn't have a job. He's retired.</td>\n",
              "    </tr>\n",
              "    <tr>\n",
              "      <th>4</th>\n",
              "      <td>This is impossible for me.</td>\n",
              "    </tr>\n",
              "    <tr>\n",
              "      <th>...</th>\n",
              "      <td>...</td>\n",
              "    </tr>\n",
              "    <tr>\n",
              "      <th>195</th>\n",
              "      <td>I need thread to sew on this button.</td>\n",
              "    </tr>\n",
              "    <tr>\n",
              "      <th>196</th>\n",
              "      <td>He set fire to the school building.</td>\n",
              "    </tr>\n",
              "    <tr>\n",
              "      <th>197</th>\n",
              "      <td>Tom may never be able to walk again.</td>\n",
              "    </tr>\n",
              "    <tr>\n",
              "      <th>198</th>\n",
              "      <td>I'm reading this book.</td>\n",
              "    </tr>\n",
              "    <tr>\n",
              "      <th>199</th>\n",
              "      <td>The Tigers lost the game, which was a surprise...</td>\n",
              "    </tr>\n",
              "  </tbody>\n",
              "</table>\n",
              "<p>200 rows × 1 columns</p>\n",
              "</div>\n",
              "      <button class=\"colab-df-convert\" onclick=\"convertToInteractive('df-e7bcf8d0-1ddf-460f-a89c-e43066c6afaf')\"\n",
              "              title=\"Convert this dataframe to an interactive table.\"\n",
              "              style=\"display:none;\">\n",
              "        \n",
              "  <svg xmlns=\"http://www.w3.org/2000/svg\" height=\"24px\"viewBox=\"0 0 24 24\"\n",
              "       width=\"24px\">\n",
              "    <path d=\"M0 0h24v24H0V0z\" fill=\"none\"/>\n",
              "    <path d=\"M18.56 5.44l.94 2.06.94-2.06 2.06-.94-2.06-.94-.94-2.06-.94 2.06-2.06.94zm-11 1L8.5 8.5l.94-2.06 2.06-.94-2.06-.94L8.5 2.5l-.94 2.06-2.06.94zm10 10l.94 2.06.94-2.06 2.06-.94-2.06-.94-.94-2.06-.94 2.06-2.06.94z\"/><path d=\"M17.41 7.96l-1.37-1.37c-.4-.4-.92-.59-1.43-.59-.52 0-1.04.2-1.43.59L10.3 9.45l-7.72 7.72c-.78.78-.78 2.05 0 2.83L4 21.41c.39.39.9.59 1.41.59.51 0 1.02-.2 1.41-.59l7.78-7.78 2.81-2.81c.8-.78.8-2.07 0-2.86zM5.41 20L4 18.59l7.72-7.72 1.47 1.35L5.41 20z\"/>\n",
              "  </svg>\n",
              "      </button>\n",
              "      \n",
              "  <style>\n",
              "    .colab-df-container {\n",
              "      display:flex;\n",
              "      flex-wrap:wrap;\n",
              "      gap: 12px;\n",
              "    }\n",
              "\n",
              "    .colab-df-convert {\n",
              "      background-color: #E8F0FE;\n",
              "      border: none;\n",
              "      border-radius: 50%;\n",
              "      cursor: pointer;\n",
              "      display: none;\n",
              "      fill: #1967D2;\n",
              "      height: 32px;\n",
              "      padding: 0 0 0 0;\n",
              "      width: 32px;\n",
              "    }\n",
              "\n",
              "    .colab-df-convert:hover {\n",
              "      background-color: #E2EBFA;\n",
              "      box-shadow: 0px 1px 2px rgba(60, 64, 67, 0.3), 0px 1px 3px 1px rgba(60, 64, 67, 0.15);\n",
              "      fill: #174EA6;\n",
              "    }\n",
              "\n",
              "    [theme=dark] .colab-df-convert {\n",
              "      background-color: #3B4455;\n",
              "      fill: #D2E3FC;\n",
              "    }\n",
              "\n",
              "    [theme=dark] .colab-df-convert:hover {\n",
              "      background-color: #434B5C;\n",
              "      box-shadow: 0px 1px 3px 1px rgba(0, 0, 0, 0.15);\n",
              "      filter: drop-shadow(0px 1px 2px rgba(0, 0, 0, 0.3));\n",
              "      fill: #FFFFFF;\n",
              "    }\n",
              "  </style>\n",
              "\n",
              "      <script>\n",
              "        const buttonEl =\n",
              "          document.querySelector('#df-e7bcf8d0-1ddf-460f-a89c-e43066c6afaf button.colab-df-convert');\n",
              "        buttonEl.style.display =\n",
              "          google.colab.kernel.accessAllowed ? 'block' : 'none';\n",
              "\n",
              "        async function convertToInteractive(key) {\n",
              "          const element = document.querySelector('#df-e7bcf8d0-1ddf-460f-a89c-e43066c6afaf');\n",
              "          const dataTable =\n",
              "            await google.colab.kernel.invokeFunction('convertToInteractive',\n",
              "                                                     [key], {});\n",
              "          if (!dataTable) return;\n",
              "\n",
              "          const docLinkHtml = 'Like what you see? Visit the ' +\n",
              "            '<a target=\"_blank\" href=https://colab.research.google.com/notebooks/data_table.ipynb>data table notebook</a>'\n",
              "            + ' to learn more about interactive tables.';\n",
              "          element.innerHTML = '';\n",
              "          dataTable['output_type'] = 'display_data';\n",
              "          await google.colab.output.renderOutput(dataTable, element);\n",
              "          const docLink = document.createElement('div');\n",
              "          docLink.innerHTML = docLinkHtml;\n",
              "          element.appendChild(docLink);\n",
              "        }\n",
              "      </script>\n",
              "    </div>\n",
              "  </div>\n",
              "  "
            ]
          },
          "metadata": {},
          "execution_count": 86
        }
      ]
    },
    {
      "cell_type": "code",
      "source": [
        "lang=['es','fr','de']\n",
        "col=['Spanish','French','German']"
      ],
      "metadata": {
        "id": "lOaLufdJRCON"
      },
      "execution_count": null,
      "outputs": []
    },
    {
      "cell_type": "markdown",
      "source": [
        "# **Creating function for Language Translation**"
      ],
      "metadata": {
        "id": "P-EhpRNzF4nE"
      }
    },
    {
      "cell_type": "code",
      "source": [
        "def trans(word,lang,i,x):\n",
        "  blob=TextBlob(word)\n",
        "  translated=blob.translate(from_lang='en',to=lang)\n",
        "  df[x][i]=translated\n",
        "  "
      ],
      "metadata": {
        "id": "QuCOLl4k9kp5"
      },
      "execution_count": null,
      "outputs": []
    },
    {
      "cell_type": "code",
      "source": [
        "for i,x in zip(lang,col):\n",
        "  df[x]=0*len(df)\n",
        "  for j in range(len(df)):\n",
        "    trans(df.iloc[j,0],i,j,x)"
      ],
      "metadata": {
        "colab": {
          "base_uri": "https://localhost:8080/"
        },
        "id": "oWssI6iJCemt",
        "outputId": "7509363e-44b7-499d-f1fd-68a6a1ed9746"
      },
      "execution_count": null,
      "outputs": [
        {
          "output_type": "stream",
          "name": "stderr",
          "text": [
            "<ipython-input-88-e04dadab4411>:4: SettingWithCopyWarning: \n",
            "A value is trying to be set on a copy of a slice from a DataFrame\n",
            "\n",
            "See the caveats in the documentation: https://pandas.pydata.org/pandas-docs/stable/user_guide/indexing.html#returning-a-view-versus-a-copy\n",
            "  df[x][i]=translated\n",
            "/usr/local/lib/python3.8/dist-packages/pandas/core/indexing.py:1732: SettingWithCopyWarning: \n",
            "A value is trying to be set on a copy of a slice from a DataFrame\n",
            "\n",
            "See the caveats in the documentation: https://pandas.pydata.org/pandas-docs/stable/user_guide/indexing.html#returning-a-view-versus-a-copy\n",
            "  self._setitem_single_block(indexer, value, name)\n"
          ]
        }
      ]
    },
    {
      "cell_type": "markdown",
      "source": [
        "# **Translated Words or sentences in Spanish,French and German**"
      ],
      "metadata": {
        "id": "CDMgVVv7GBU8"
      }
    },
    {
      "cell_type": "code",
      "source": [
        "df"
      ],
      "metadata": {
        "colab": {
          "base_uri": "https://localhost:8080/",
          "height": 786
        },
        "id": "JlVc8sXN3Wk5",
        "outputId": "4fa6f062-9b36-48d2-edb9-cceca0d2e2ce"
      },
      "execution_count": null,
      "outputs": [
        {
          "output_type": "execute_result",
          "data": {
            "text/plain": [
              "                               English words/sentences  \\\n",
              "0    High fructose corn syrup is found in about eve...   \n",
              "1            Surprisingly, he swims even on cold days.   \n",
              "2                         What if Tom doesn't like me?   \n",
              "3                 He doesn't have a job. He's retired.   \n",
              "4                           This is impossible for me.   \n",
              "..                                                 ...   \n",
              "195               I need thread to sew on this button.   \n",
              "196                He set fire to the school building.   \n",
              "197               Tom may never be able to walk again.   \n",
              "198                             I'm reading this book.   \n",
              "199  The Tigers lost the game, which was a surprise...   \n",
              "\n",
              "                                               Spanish  \\\n",
              "0    (E, l,  , j, a, r, a, b, e,  , d, e,  , m, a, ...   \n",
              "1    (S, o, r, p, r, e, n, d, e, n, t, e, m, e, n, ...   \n",
              "2    (¿, Y,  , s, i,  , a,  , T, o, m,  , n, o,  , ...   \n",
              "3    (N, o,  , t, i, e, n, e,  , t, r, a, b, a, j, ...   \n",
              "4    (E, s, t, o,  , e, s,  , i, m, p, o, s, i, b, ...   \n",
              "..                                                 ...   \n",
              "195  (N, e, c, e, s, i, t, o,  , h, i, l, o,  , p, ...   \n",
              "196  (P, u, s, o,  , f, u, e, g, o,  , a, l,  , e, ...   \n",
              "197  (E, s,  , p, o, s, i, b, l, e,  , q, u, e,  , ...   \n",
              "198  (E, s, t, o, y,  , l, e, y, e, n, d, o,  , e, ...   \n",
              "199  (L, o, s,  , T, i, g, r, e, s,  , p, e, r, d, ...   \n",
              "\n",
              "                                                French  \\\n",
              "0    (L, e,  , s, i, r, o, p,  , d, e,  , m, a, ï, ...   \n",
              "1    (É, t, o, n, n, a, m, m, e, n, t, ,,  , i, l, ...   \n",
              "2    (E, t,  , s, i,  , T, o, m,  , n, e,  , m, ', ...   \n",
              "3    (I, l,  , n, ', a,  , p, a, s,  , d, ', e, m, ...   \n",
              "4    (C, ', e, s, t,  , i, m, p, o, s, s, i, b, l, ...   \n",
              "..                                                 ...   \n",
              "195  (J, ', a, i,  , b, e, s, o, i, n,  , d, e,  , ...   \n",
              "196  (I, l,  , a,  , m, i, s,  , l, e,  , f, e, u, ...   \n",
              "197  (T, o, m,  , n, e,  , p, o, u, r, r, a,  , p, ...   \n",
              "198   (J, e,  , l, i, s,  , c, e,  , l, i, v, r, e, .)   \n",
              "199  (L, e, s,  , T, i, g, e, r, s,  , o, n, t,  , ...   \n",
              "\n",
              "                                                German  \n",
              "0    (I, n,  , a, l, l, e, m, ,,  , w, a, s,  , S, ...  \n",
              "1    (Ü, b, e, r, r, a, s, c, h, e, n, d, e, r, w, ...  \n",
              "2    (W, a, s,  , i, s, t, ,,  , w, e, n, n,  , T, ...  \n",
              "3    (E, r,  , h, a, t,  , k, e, i, n, e, n,  , J, ...  \n",
              "4    (D, a, s,  , i, s, t,  , m, i, r,  , u, n, m, ...  \n",
              "..                                                 ...  \n",
              "195  (I, c, h,  , b, r, a, u, c, h, e,  , F, a, d, ...  \n",
              "196  (E, r,  , l, e, g, t, e,  , d, a, s,  , S, c, ...  \n",
              "197  (T, o, m,  , k, a, n, n,  , v, i, e, l, l, e, ...  \n",
              "198  (I, c, h,  , l, e, s, e,  , d, i, e, s, e, s, ...  \n",
              "199  (D, i, e,  , T, i, g, e, r,  , v, e, r, l, o, ...  \n",
              "\n",
              "[200 rows x 4 columns]"
            ],
            "text/html": [
              "\n",
              "  <div id=\"df-411b4824-cc4c-45f4-b451-9464bd3ff45e\">\n",
              "    <div class=\"colab-df-container\">\n",
              "      <div>\n",
              "<style scoped>\n",
              "    .dataframe tbody tr th:only-of-type {\n",
              "        vertical-align: middle;\n",
              "    }\n",
              "\n",
              "    .dataframe tbody tr th {\n",
              "        vertical-align: top;\n",
              "    }\n",
              "\n",
              "    .dataframe thead th {\n",
              "        text-align: right;\n",
              "    }\n",
              "</style>\n",
              "<table border=\"1\" class=\"dataframe\">\n",
              "  <thead>\n",
              "    <tr style=\"text-align: right;\">\n",
              "      <th></th>\n",
              "      <th>English words/sentences</th>\n",
              "      <th>Spanish</th>\n",
              "      <th>French</th>\n",
              "      <th>German</th>\n",
              "    </tr>\n",
              "  </thead>\n",
              "  <tbody>\n",
              "    <tr>\n",
              "      <th>0</th>\n",
              "      <td>High fructose corn syrup is found in about eve...</td>\n",
              "      <td>(E, l,  , j, a, r, a, b, e,  , d, e,  , m, a, ...</td>\n",
              "      <td>(L, e,  , s, i, r, o, p,  , d, e,  , m, a, ï, ...</td>\n",
              "      <td>(I, n,  , a, l, l, e, m, ,,  , w, a, s,  , S, ...</td>\n",
              "    </tr>\n",
              "    <tr>\n",
              "      <th>1</th>\n",
              "      <td>Surprisingly, he swims even on cold days.</td>\n",
              "      <td>(S, o, r, p, r, e, n, d, e, n, t, e, m, e, n, ...</td>\n",
              "      <td>(É, t, o, n, n, a, m, m, e, n, t, ,,  , i, l, ...</td>\n",
              "      <td>(Ü, b, e, r, r, a, s, c, h, e, n, d, e, r, w, ...</td>\n",
              "    </tr>\n",
              "    <tr>\n",
              "      <th>2</th>\n",
              "      <td>What if Tom doesn't like me?</td>\n",
              "      <td>(¿, Y,  , s, i,  , a,  , T, o, m,  , n, o,  , ...</td>\n",
              "      <td>(E, t,  , s, i,  , T, o, m,  , n, e,  , m, ', ...</td>\n",
              "      <td>(W, a, s,  , i, s, t, ,,  , w, e, n, n,  , T, ...</td>\n",
              "    </tr>\n",
              "    <tr>\n",
              "      <th>3</th>\n",
              "      <td>He doesn't have a job. He's retired.</td>\n",
              "      <td>(N, o,  , t, i, e, n, e,  , t, r, a, b, a, j, ...</td>\n",
              "      <td>(I, l,  , n, ', a,  , p, a, s,  , d, ', e, m, ...</td>\n",
              "      <td>(E, r,  , h, a, t,  , k, e, i, n, e, n,  , J, ...</td>\n",
              "    </tr>\n",
              "    <tr>\n",
              "      <th>4</th>\n",
              "      <td>This is impossible for me.</td>\n",
              "      <td>(E, s, t, o,  , e, s,  , i, m, p, o, s, i, b, ...</td>\n",
              "      <td>(C, ', e, s, t,  , i, m, p, o, s, s, i, b, l, ...</td>\n",
              "      <td>(D, a, s,  , i, s, t,  , m, i, r,  , u, n, m, ...</td>\n",
              "    </tr>\n",
              "    <tr>\n",
              "      <th>...</th>\n",
              "      <td>...</td>\n",
              "      <td>...</td>\n",
              "      <td>...</td>\n",
              "      <td>...</td>\n",
              "    </tr>\n",
              "    <tr>\n",
              "      <th>195</th>\n",
              "      <td>I need thread to sew on this button.</td>\n",
              "      <td>(N, e, c, e, s, i, t, o,  , h, i, l, o,  , p, ...</td>\n",
              "      <td>(J, ', a, i,  , b, e, s, o, i, n,  , d, e,  , ...</td>\n",
              "      <td>(I, c, h,  , b, r, a, u, c, h, e,  , F, a, d, ...</td>\n",
              "    </tr>\n",
              "    <tr>\n",
              "      <th>196</th>\n",
              "      <td>He set fire to the school building.</td>\n",
              "      <td>(P, u, s, o,  , f, u, e, g, o,  , a, l,  , e, ...</td>\n",
              "      <td>(I, l,  , a,  , m, i, s,  , l, e,  , f, e, u, ...</td>\n",
              "      <td>(E, r,  , l, e, g, t, e,  , d, a, s,  , S, c, ...</td>\n",
              "    </tr>\n",
              "    <tr>\n",
              "      <th>197</th>\n",
              "      <td>Tom may never be able to walk again.</td>\n",
              "      <td>(E, s,  , p, o, s, i, b, l, e,  , q, u, e,  , ...</td>\n",
              "      <td>(T, o, m,  , n, e,  , p, o, u, r, r, a,  , p, ...</td>\n",
              "      <td>(T, o, m,  , k, a, n, n,  , v, i, e, l, l, e, ...</td>\n",
              "    </tr>\n",
              "    <tr>\n",
              "      <th>198</th>\n",
              "      <td>I'm reading this book.</td>\n",
              "      <td>(E, s, t, o, y,  , l, e, y, e, n, d, o,  , e, ...</td>\n",
              "      <td>(J, e,  , l, i, s,  , c, e,  , l, i, v, r, e, .)</td>\n",
              "      <td>(I, c, h,  , l, e, s, e,  , d, i, e, s, e, s, ...</td>\n",
              "    </tr>\n",
              "    <tr>\n",
              "      <th>199</th>\n",
              "      <td>The Tigers lost the game, which was a surprise...</td>\n",
              "      <td>(L, o, s,  , T, i, g, r, e, s,  , p, e, r, d, ...</td>\n",
              "      <td>(L, e, s,  , T, i, g, e, r, s,  , o, n, t,  , ...</td>\n",
              "      <td>(D, i, e,  , T, i, g, e, r,  , v, e, r, l, o, ...</td>\n",
              "    </tr>\n",
              "  </tbody>\n",
              "</table>\n",
              "<p>200 rows × 4 columns</p>\n",
              "</div>\n",
              "      <button class=\"colab-df-convert\" onclick=\"convertToInteractive('df-411b4824-cc4c-45f4-b451-9464bd3ff45e')\"\n",
              "              title=\"Convert this dataframe to an interactive table.\"\n",
              "              style=\"display:none;\">\n",
              "        \n",
              "  <svg xmlns=\"http://www.w3.org/2000/svg\" height=\"24px\"viewBox=\"0 0 24 24\"\n",
              "       width=\"24px\">\n",
              "    <path d=\"M0 0h24v24H0V0z\" fill=\"none\"/>\n",
              "    <path d=\"M18.56 5.44l.94 2.06.94-2.06 2.06-.94-2.06-.94-.94-2.06-.94 2.06-2.06.94zm-11 1L8.5 8.5l.94-2.06 2.06-.94-2.06-.94L8.5 2.5l-.94 2.06-2.06.94zm10 10l.94 2.06.94-2.06 2.06-.94-2.06-.94-.94-2.06-.94 2.06-2.06.94z\"/><path d=\"M17.41 7.96l-1.37-1.37c-.4-.4-.92-.59-1.43-.59-.52 0-1.04.2-1.43.59L10.3 9.45l-7.72 7.72c-.78.78-.78 2.05 0 2.83L4 21.41c.39.39.9.59 1.41.59.51 0 1.02-.2 1.41-.59l7.78-7.78 2.81-2.81c.8-.78.8-2.07 0-2.86zM5.41 20L4 18.59l7.72-7.72 1.47 1.35L5.41 20z\"/>\n",
              "  </svg>\n",
              "      </button>\n",
              "      \n",
              "  <style>\n",
              "    .colab-df-container {\n",
              "      display:flex;\n",
              "      flex-wrap:wrap;\n",
              "      gap: 12px;\n",
              "    }\n",
              "\n",
              "    .colab-df-convert {\n",
              "      background-color: #E8F0FE;\n",
              "      border: none;\n",
              "      border-radius: 50%;\n",
              "      cursor: pointer;\n",
              "      display: none;\n",
              "      fill: #1967D2;\n",
              "      height: 32px;\n",
              "      padding: 0 0 0 0;\n",
              "      width: 32px;\n",
              "    }\n",
              "\n",
              "    .colab-df-convert:hover {\n",
              "      background-color: #E2EBFA;\n",
              "      box-shadow: 0px 1px 2px rgba(60, 64, 67, 0.3), 0px 1px 3px 1px rgba(60, 64, 67, 0.15);\n",
              "      fill: #174EA6;\n",
              "    }\n",
              "\n",
              "    [theme=dark] .colab-df-convert {\n",
              "      background-color: #3B4455;\n",
              "      fill: #D2E3FC;\n",
              "    }\n",
              "\n",
              "    [theme=dark] .colab-df-convert:hover {\n",
              "      background-color: #434B5C;\n",
              "      box-shadow: 0px 1px 3px 1px rgba(0, 0, 0, 0.15);\n",
              "      filter: drop-shadow(0px 1px 2px rgba(0, 0, 0, 0.3));\n",
              "      fill: #FFFFFF;\n",
              "    }\n",
              "  </style>\n",
              "\n",
              "      <script>\n",
              "        const buttonEl =\n",
              "          document.querySelector('#df-411b4824-cc4c-45f4-b451-9464bd3ff45e button.colab-df-convert');\n",
              "        buttonEl.style.display =\n",
              "          google.colab.kernel.accessAllowed ? 'block' : 'none';\n",
              "\n",
              "        async function convertToInteractive(key) {\n",
              "          const element = document.querySelector('#df-411b4824-cc4c-45f4-b451-9464bd3ff45e');\n",
              "          const dataTable =\n",
              "            await google.colab.kernel.invokeFunction('convertToInteractive',\n",
              "                                                     [key], {});\n",
              "          if (!dataTable) return;\n",
              "\n",
              "          const docLinkHtml = 'Like what you see? Visit the ' +\n",
              "            '<a target=\"_blank\" href=https://colab.research.google.com/notebooks/data_table.ipynb>data table notebook</a>'\n",
              "            + ' to learn more about interactive tables.';\n",
              "          element.innerHTML = '';\n",
              "          dataTable['output_type'] = 'display_data';\n",
              "          await google.colab.output.renderOutput(dataTable, element);\n",
              "          const docLink = document.createElement('div');\n",
              "          docLink.innerHTML = docLinkHtml;\n",
              "          element.appendChild(docLink);\n",
              "        }\n",
              "      </script>\n",
              "    </div>\n",
              "  </div>\n",
              "  "
            ]
          },
          "metadata": {},
          "execution_count": 90
        }
      ]
    },
    {
      "cell_type": "markdown",
      "source": [
        "# **saving the final output to csv file**"
      ],
      "metadata": {
        "id": "kRwB8-A2GUIk"
      }
    },
    {
      "cell_type": "code",
      "source": [
        "df.to_csv(\"Translated.csv\")"
      ],
      "metadata": {
        "id": "k-Bg57lVNxLC"
      },
      "execution_count": null,
      "outputs": []
    }
  ]
}